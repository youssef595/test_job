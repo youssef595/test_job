{
 "cells": [
  {
   "cell_type": "code",
   "execution_count": null,
   "metadata": {},
   "outputs": [],
   "source": [
    "import pandas as pd\n",
    "import ads\n",
    "ads.set_auth(auth='resource_principal')\n",
    "data = pd.read_parquet(f\"oci://sa-cat-data-neu@frsulmjrrb5y/working/Macro_Tables/MACRO_TABLE_FULL_3M_V2.parquet\", engine=\"pyarrow\")"
   ]
  },
  {
   "cell_type": "code",
   "execution_count": null,
   "metadata": {},
   "outputs": [],
   "source": [
    "bucket_name = \"sa-cat-data-neu\"\n",
    "namespace = \"frsulmjrrb5y\"\n",
    "folder_name = \"working\"\n",
    "folder2 = \"Macro_Tables\"\n",
    "\n",
    "# Assuming 'data' is your DataFrame\n",
    "data.to_parquet(f\"oci://{bucket_name}@{namespace}/{folder_name}/{folder2}/{'MACRO_TABLE_test1'}.parquet\")"
   ]
  }
 ],
 "metadata": {
  "language_info": {
   "name": "python"
  },
  "orig_nbformat": 4
 },
 "nbformat": 4,
 "nbformat_minor": 2
}
